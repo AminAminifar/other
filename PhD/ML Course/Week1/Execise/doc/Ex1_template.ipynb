{
 "cells": [
  {
   "cell_type": "code",
   "execution_count": null,
   "metadata": {},
   "outputs": [],
   "source": [
    "import numpy as np\n",
    "import matplotlib.pyplot as plt\n",
    "from matplotlib.colors import ListedColormap\n",
    "from sklearn import neighbors, datasets, model_selection"
   ]
  },
  {
   "cell_type": "code",
   "execution_count": null,
   "metadata": {},
   "outputs": [],
   "source": [
    "### Iris dataset preprocessing\n",
    "# Load Iris dataset:\n",
    "iris = datasets.load_iris()\n",
    "# Store the first 2 features in a matrix X:\n",
    "X = iris.data[:, :2]\n",
    "# Store the labels in a vector Y:\n",
    "Y = iris.target\n",
    "# Split the data into train and validation sets with a ratio of 0.7/0.3:\n",
    "X_train, X_val, Y_train, Y_val = ...\n",
    "# Store number of datapoints in train and validation sets:\n",
    "N_train = len(Y_train)\n",
    "N_val = len(Y_val)"
   ]
  },
  {
   "cell_type": "code",
   "execution_count": null,
   "metadata": {},
   "outputs": [],
   "source": [
    "### Plot parameters:\n",
    "# Step size in the mesh:\n",
    "h = .02\n",
    "# Light colors for decision boundaries plots:\n",
    "cmap_light = ListedColormap(['#FFAAAA', '#AAFFAA', '#AAAAFF'])\n",
    "# Bold colors for training points scatterplots:\n",
    "cmap_bold = ListedColormap(['#FF0000', '#00FF00', '#0000FF'])\n",
    "\n",
    "### k-NN parameters: \n",
    "# k: Number of nearest neighbors taken into account:\n",
    "k_list = [1, 5, 10, 20, 30]"
   ]
  },
  {
   "cell_type": "code",
   "execution_count": null,
   "metadata": {},
   "outputs": [],
   "source": [
    "### k-NN on the Iris dataset for different values of k:\n",
    "# Create vectors to store the results for each k:\n",
    "train_accuracies = []\n",
    "val_accuracies = []\n",
    "\n",
    "# Main work here:\n",
    "for idx, k in enumerate(k_list):\n",
    "\t# Create an instance of the KNeighborsClassifier class for current value of k:\n",
    "\t...\n",
    "\t# Fit the train data:\n",
    "\t...\n",
    "\n",
    "\t### Decision boundaries plotting:\n",
    "\t# Generate the axis associated to the first feature: \n",
    "\tx_min = ...\n",
    "\tx_max = ...\n",
    "\tx_axis = np.arange(x_min, x_max, h)\n",
    "\t# Generate the axis associated to the second feature:\n",
    "\ty_min = ...\n",
    "\ty_max = ...\n",
    "\ty_axis = np.arange(y_min, y_max, h)\n",
    "\t# Generate a meshgrid (2D grid) from the 2 axis:\n",
    "\tx_grid, y_grid = np.meshgrid(x_axis, y_axis)\n",
    "\t# Vectorize the grids into column vectors:\n",
    "\tx_grid_vectorized = x_grid.flatten()\n",
    "\tx_grid_vectorized = np.expand_dims(x_grid_vectorized, axis=1)\n",
    "\ty_grid_vectorized = y_grid.flatten()\n",
    "\ty_grid_vectorized = np.expand_dims(y_grid_vectorized, axis=1)\n",
    "\t# Concatenate the vectorized grids:\n",
    "\tconcat_grids = np.concatenate((x_grid_vectorized, y_grid_vectorized),\n",
    "\t\t\t\t\t\t\t\t  axis=1)\n",
    "\t# Predict concatenated features to get the decision boundaries:\n",
    "\tdecision_boundaries = ...\n",
    "\t# Reshape the decision boundaries into a 2D matrix:\n",
    "\tdecision_boundaries = ...\n",
    "\t# Plot the decision boundaries:\n",
    "\tplt.figure(idx)\n",
    "\tplt.pcolormesh(..., ..., ..., cmap=cmap_light)\n",
    "\t# Overlay the training points:\n",
    "\tplt.scatter(..., ..., c=Y, cmap=cmap_bold, edgecolor='k', s=20)\n",
    "\tplt.xlim(...)\n",
    "\tplt.ylim(...)\n",
    "\tplt.xlabel(...)\n",
    "\tplt.ylabel(...)\n",
    "\tplt.title(...)\n",
    "\n",
    "\t### Model evaluation:\n",
    "\t# Evaluate train set:\n",
    "\t...\n",
    "    train_accuracies.append(...)\n",
    "\t# Evaluate validation set:\n",
    "\t...\n",
    "    val_accuracies.append(...)\n",
    "\n",
    "# Plot accuracy curves:\n",
    "plt.figure(len(k_list))\n",
    "plt.plot(...) # train accuracy plot\n",
    "plt.plot(...) # validation accuracy plot\n",
    "plt.xlim(...)\n",
    "plt.ylim(...)\n",
    "plt.xlabel(...)\n",
    "plt.ylabel(...)\n",
    "plt.legend(['Train', 'Validation'], loc='best')\n",
    "plt.title(...)\n",
    "\n",
    "# Display plots:\n",
    "plt.show()"
   ]
  },
  {
   "cell_type": "code",
   "execution_count": null,
   "metadata": {},
   "outputs": [],
   "source": []
  }
 ],
 "metadata": {
  "kernelspec": {
   "display_name": "Python 3",
   "language": "python",
   "name": "python3"
  },
  "language_info": {
   "codemirror_mode": {
    "name": "ipython",
    "version": 3
   },
   "file_extension": ".py",
   "mimetype": "text/x-python",
   "name": "python",
   "nbconvert_exporter": "python",
   "pygments_lexer": "ipython3",
   "version": "3.6.8"
  }
 },
 "nbformat": 4,
 "nbformat_minor": 2
}
