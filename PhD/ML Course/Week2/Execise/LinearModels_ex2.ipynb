{
 "cells": [
  {
   "cell_type": "markdown",
   "metadata": {},
   "source": [
    "# 1.Univariate Regression\n",
    "In this part you have to first we try and implement the building blocks for a linear regression implementation. First of all, we need to make sure to have the necessary libraries installed."
   ]
  },
  {
   "cell_type": "code",
   "execution_count": 94,
   "metadata": {},
   "outputs": [
    {
     "name": "stdout",
     "output_type": "stream",
     "text": [
      "Requirement already satisfied: numpy in c:\\programdata\\anaconda3\\lib\\site-packages (1.15.1)\n"
     ]
    },
    {
     "name": "stderr",
     "output_type": "stream",
     "text": [
      "WARNING: You are using pip version 19.1, however version 19.2.3 is available.\n",
      "You should consider upgrading via the 'python -m pip install --upgrade pip' command.\n"
     ]
    },
    {
     "name": "stdout",
     "output_type": "stream",
     "text": [
      "Requirement already satisfied: pandas in c:\\programdata\\anaconda3\\lib\\site-packages (0.23.4)\n",
      "Requirement already satisfied: python-dateutil>=2.5.0 in c:\\programdata\\anaconda3\\lib\\site-packages (from pandas) (2.7.3)\n",
      "Requirement already satisfied: pytz>=2011k in c:\\programdata\\anaconda3\\lib\\site-packages (from pandas) (2018.5)\n",
      "Requirement already satisfied: numpy>=1.9.0 in c:\\programdata\\anaconda3\\lib\\site-packages (from pandas) (1.15.1)\n",
      "Requirement already satisfied: six>=1.5 in c:\\programdata\\anaconda3\\lib\\site-packages (from python-dateutil>=2.5.0->pandas) (1.11.0)\n"
     ]
    },
    {
     "name": "stderr",
     "output_type": "stream",
     "text": [
      "WARNING: You are using pip version 19.1, however version 19.2.3 is available.\n",
      "You should consider upgrading via the 'python -m pip install --upgrade pip' command.\n"
     ]
    }
   ],
   "source": [
    "# install numpy and pandas first. If you have them installed already then pip won't install them\n",
    "# and you will get requirement already satisfied message. That's normal.\n",
    "!pip install numpy\n",
    "!pip install pandas\n",
    "import numpy as np\n",
    "import pandas as pd\n",
    "np.random.seed(2)"
   ]
  },
  {
   "cell_type": "markdown",
   "metadata": {},
   "source": [
    "Now let's load some points from the  \"unilinear.csv\" file:"
   ]
  },
  {
   "cell_type": "code",
   "execution_count": 95,
   "metadata": {},
   "outputs": [
    {
     "data": {
      "image/png": "[encoded data removed]",
      "text/plain": [
       "<Figure size 432x288 with 1 Axes>"
      ]
     },
     "metadata": {
      "needs_background": "light"
     },
     "output_type": "display_data"
    }
   ],
   "source": [
    "# Read the X and y values from unilinear.csv\n",
    "datapoints = np.genfromtxt('unilinear.csv', delimiter=',')\n",
    "X = datapoints[:,0]\n",
    "# print(X.shape)\n",
    "X = X.reshape(-1,1)\n",
    "# print(X.shape)\n",
    "X.sort(axis=0)\n",
    "\n",
    "\n",
    "y = datapoints[:,1]\n",
    "y = y.reshape(-1,1)\n",
    "\n",
    "# let us plot the data\n",
    "import matplotlib.pyplot as plt\n",
    "%matplotlib inline\n",
    "plt.scatter(X, y)\n",
    "plt.grid()"
   ]
  },
  {
   "cell_type": "markdown",
   "metadata": {},
   "source": [
    "## Exercise 1.1\n",
    "Implement the closed form of linear regression which was taught in the lecture:\n",
    "##### Hints: \n",
    "1. Add a column of 1's to X using `np.hstack`. This column of 1's models for the y-intercept ($w_0$). \n",
    "2. Use `inv` function in numpy to find the inverse of a matrix. inv is defined in `numpy.linalg` module so will need to import it from it. \n",
    "3. To multiply two matrices `a` and `b`, use the following notation in python `a.dot(b)`\n",
    "4. To transpose a matrix `c` use `c.T`"
   ]
  },
  {
   "cell_type": "code",
   "execution_count": 96,
   "metadata": {},
   "outputs": [],
   "source": [
    "# TODO\n",
    "# Write your solution here\n",
    "one_col = np.ones(X.shape[0])\n",
    "one_col = one_col.reshape(-1,1)\n",
    "_X = np.hstack((one_col,X))\n",
    "X_T = np.ndarray.transpose(_X)\n",
    "w_hat = np.matmul(np.linalg.inv(np.matmul(X_T,_X)),np.matmul(X_T,y))"
   ]
  },
  {
   "cell_type": "code",
   "execution_count": 97,
   "metadata": {},
   "outputs": [
    {
     "name": "stdout",
     "output_type": "stream",
     "text": [
      "[6.45478709] [5.02129039]\n"
     ]
    }
   ],
   "source": [
    "# TODO\n",
    "# Check the values of w_hat vector\n",
    "print(*w_hat)"
   ]
  },
  {
   "cell_type": "code",
   "execution_count": 98,
   "metadata": {},
   "outputs": [
    {
     "data": {
      "text/plain": [
       "[<matplotlib.lines.Line2D at 0x25dcadd4fd0>]"
      ]
     },
     "execution_count": 98,
     "metadata": {},
     "output_type": "execute_result"
    },
    {
     "data": {
      "image/png": "[encoded data removed]",
      "text/plain": [
       "<Figure size 432x288 with 1 Axes>"
      ]
     },
     "metadata": {
      "needs_background": "light"
     },
     "output_type": "display_data"
    }
   ],
   "source": [
    "# TODO\n",
    "# plot the estimated line with datapoints showing \n",
    "y_pred = np.matmul(_X,w_hat)\n",
    "plt.scatter(X, y)\n",
    "plt.plot(X,y_pred,color='red')"
   ]
  },
  {
   "cell_type": "markdown",
   "metadata": {},
   "source": [
    "## Exercise 1.2\n",
    "### Implementation of Gradient Descent\n",
    "Calculate the loss function of Mean Square Error (MSE):"
   ]
  },
  {
   "cell_type": "code",
   "execution_count": 178,
   "metadata": {},
   "outputs": [],
   "source": [
    "def loss_function(X, y, w0, w1):\n",
    "    # TODO\n",
    "    # calculate the sum of squared errors for the current W vector\n",
    "    n = X.shape[0]\n",
    "    y_pred = np.multiply(X,w1)+w0\n",
    "    mse = (1/n) * np.sum((y-y_pred)**2)\n",
    "    return mse"
   ]
  },
  {
   "cell_type": "markdown",
   "metadata": {},
   "source": [
    "Next you need to evaluate the current function with respect to w0 and w1. In order to do that caculate the one step derivatives of the MSE with respect to w0 and w1:"
   ]
  },
  {
   "cell_type": "code",
   "execution_count": 179,
   "metadata": {},
   "outputs": [],
   "source": [
    "def compute_gradient(X, y, w0, w1):\n",
    "    # TODO\n",
    "    # calculate the gradient vector of partial derivatives of MSE with the formulat that you have found\n",
    "    n = X.shape[0]\n",
    "    y_pred = np.multiply(X,w1)+w0\n",
    "    w0_par_der = (-2/n) * np.sum((y-y_pred))\n",
    "    w1_par_der = (-2/n) * np.sum(np.multiply((y-y_pred),X.T))\n",
    "    # make a gradient vector from the partial derivatives    \n",
    "    gradient_mse = np.array([w0_par_der, w1_par_der])\n",
    "    return gradient_mse"
   ]
  },
  {
   "cell_type": "markdown",
   "metadata": {},
   "source": [
    "Now you need to update your $w_0$ and $w_1$ using a certain learning rate: "
   ]
  },
  {
   "cell_type": "code",
   "execution_count": 180,
   "metadata": {},
   "outputs": [],
   "source": [
    "def update_parameters(w0, w1, w0_par_der, w1_par_der, learning_rate):\n",
    "    \n",
    "    # make a vector of weights\n",
    "    weight_vector = np.array([w0, w1])\n",
    "    # make a gradient vector from the partial derivatives    \n",
    "    gradient_mse = np.array([w0_par_der, w1_par_der])\n",
    "    # TODO\n",
    "    # update the vector of W (w0,w1) using the update rule and return the value of updated weights\n",
    "    updated_weight_vector = weight_vector - learning_rate*(gradient_mse)\n",
    "    # return the updated weight vector as a list\n",
    "    return np.ndarray.tolist(updated_weight_vector)"
   ]
  },
  {
   "cell_type": "markdown",
   "metadata": {},
   "source": [
    "The next step is to run multiple iterations of gradient descent:"
   ]
  },
  {
   "cell_type": "code",
   "execution_count": 181,
   "metadata": {},
   "outputs": [],
   "source": [
    "def run_optimization(X, y, starting_w0, starting_w1, learning_rate, num_iterations):\n",
    "    w0 = starting_w0\n",
    "    w1 = starting_w1\n",
    "    # TODO\n",
    "    # run the Gradient descent for num_iterations\n",
    "    for i in range(num_iterations):\n",
    "        w0_par_der, w1_par_der = compute_gradient(X, y, w0, w1)\n",
    "        w0, w1 = update_parameters (w0, w1, w0_par_der, w1_par_der, learning_rate)\n",
    "        mse = loss_function(X, y, w0, w1)\n",
    "        print(f'Iteration {i+1}: w0={w0:0.5f}, w1={w1:0.5f}, mse={mse:0.5f}')\n",
    "    return [w0, w1, mse]"
   ]
  },
  {
   "cell_type": "markdown",
   "metadata": {},
   "source": [
    "Now to test your implementation :"
   ]
  },
  {
   "cell_type": "code",
   "execution_count": 182,
   "metadata": {},
   "outputs": [
    {
     "name": "stdout",
     "output_type": "stream",
     "text": [
      "Iteration 1: w0=2.21493, w1=2.32156, mse=47.34810\n",
      "Iteration 2: w0=3.55968, w1=3.71134, mse=17.37766\n",
      "Iteration 3: w0=4.37975, w1=4.53985, mse=6.48588\n",
      "Iteration 4: w0=4.88335, w1=5.03039, mse=2.52335\n",
      "Iteration 5: w0=5.19596, w1=5.31750, mse=1.07772\n",
      "Iteration 6: w0=5.39322, w1=5.48225, mse=0.54653\n",
      "Iteration 7: w0=5.52071, w1=5.57351, mse=0.34778\n",
      "Iteration 8: w0=5.60591, w1=5.62070, mse=0.27009\n",
      "Iteration 9: w0=5.66539, w1=5.64156, mse=0.23667\n",
      "Iteration 10: w0=5.70913, w1=5.64676, mse=0.21963\n",
      "Iteration 11: w0=5.74317, w1=5.64274, mse=0.20881\n",
      "Iteration 12: w0=5.77114, w1=5.63336, mse=0.20051\n",
      "Iteration 13: w0=5.79524, w1=5.62095, mse=0.19336\n",
      "Iteration 14: w0=5.81681, w1=5.60691, mse=0.18687\n",
      "Iteration 15: w0=5.83664, w1=5.59208, mse=0.18084\n",
      "Iteration 16: w0=5.85524, w1=5.57694, mse=0.17517\n",
      "Iteration 17: w0=5.87290, w1=5.56180, mse=0.16984\n",
      "Iteration 18: w0=5.88982, w1=5.54683, mse=0.16481\n",
      "Iteration 19: w0=5.90611, w1=5.53212, mse=0.16006\n",
      "Iteration 20: w0=5.92185, w1=5.51774, mse=0.15558\n",
      "Iteration 21: w0=5.93708, w1=5.50371, mse=0.15135\n",
      "Iteration 22: w0=5.95185, w1=5.49004, mse=0.14736\n",
      "Iteration 23: w0=5.96618, w1=5.47674, mse=0.14359\n",
      "Iteration 24: w0=5.98010, w1=5.46381, mse=0.14004\n",
      "Iteration 25: w0=5.99361, w1=5.45124, mse=0.13668\n",
      "Iteration 26: w0=6.00673, w1=5.43902, mse=0.13351\n",
      "Iteration 27: w0=6.01947, w1=5.42714, mse=0.13052\n",
      "Iteration 28: w0=6.03185, w1=5.41561, mse=0.12769\n",
      "Iteration 29: w0=6.04388, w1=5.40439, mse=0.12503\n",
      "Iteration 30: w0=6.05557, w1=5.39350, mse=0.12251\n",
      "Iteration 31: w0=6.06692, w1=5.38292, mse=0.12014\n",
      "Iteration 32: w0=6.07795, w1=5.37263, mse=0.11790\n",
      "Iteration 33: w0=6.08867, w1=5.36264, mse=0.11578\n",
      "Iteration 34: w0=6.09908, w1=5.35294, mse=0.11378\n",
      "Iteration 35: w0=6.10919, w1=5.34351, mse=0.11190\n",
      "Iteration 36: w0=6.11902, w1=5.33434, mse=0.11012\n",
      "Iteration 37: w0=6.12857, w1=5.32544, mse=0.10844\n",
      "Iteration 38: w0=6.13784, w1=5.31679, mse=0.10685\n",
      "Iteration 39: w0=6.14686, w1=5.30839, mse=0.10536\n",
      "Iteration 40: w0=6.15561, w1=5.30022, mse=0.10394\n"
     ]
    }
   ],
   "source": [
    "X = X.flatten()\n",
    "y = y.flatten()\n",
    "num_iterations = 40\n",
    "learning_rate = 0.1\n",
    "starting_w0 = 0 # initial y-intercept guess\n",
    "starting_w1 = 0 # initial slope guess\n",
    "\n",
    "[w0,w1,_] = run_optimization(X, y, starting_w0, starting_w1, learning_rate, num_iterations)"
   ]
  },
  {
   "cell_type": "markdown",
   "metadata": {},
   "source": [
    "Test it again with learning rate of 1:"
   ]
  },
  {
   "cell_type": "code",
   "execution_count": 183,
   "metadata": {},
   "outputs": [
    {
     "name": "stdout",
     "output_type": "stream",
     "text": [
      "Iteration 1: w0=22.14932, w1=23.21556, mse=1145.57670\n",
      "Iteration 2: w0=-42.71926, w1=-46.74664, mse=10128.04447\n",
      "Iteration 3: w0=150.88767, w1=160.63065, mse=89555.47553\n",
      "Iteration 4: w0=-424.31690, w1=-456.50662, mse=791888.03243\n",
      "Iteration 5: w0=1286.48998, w1=1378.28758, mse=7002221.73248\n",
      "Iteration 6: w0=-3800.54553, w1=-4077.94397, mse=61916725.58570\n",
      "Iteration 7: w0=11326.57248, w1=12146.66334, mse=547494936.94083\n",
      "Iteration 8: w0=-33655.65605, w1=-36099.34411, mse=4841191188.06990\n",
      "Iteration 9: w0=100104.67708, w1=107366.05570, mse=42807943125.80430\n",
      "Iteration 10: w0=-297648.20061, w1=-319246.17412, mse=378526673187.83051\n",
      "Iteration 11: w0=885119.37920, w1=949338.17515, mse=3347099436517.65430\n",
      "Iteration 12: w0=-2631986.72972, w1=-2822954.81277, mse=29596526299163.98047\n",
      "Iteration 13: w0=7826564.67594, w1=8394426.39002, mse=261705511171927.09375\n",
      "Iteration 14: w0=-23273235.49838, w1=-24961848.36840, mse=2314115308177042.50000\n",
      "Iteration 15: w0=69205878.87034, w1=74227173.11104, mse=20462426012959596.00000\n",
      "Iteration 16: w0=-205792241.53592, w1=-220723688.60170, mse=180937776460969632.00000\n",
      "Iteration 17: w0=611948788.38565, w1=656349293.10915, mse=1599931451427379712.00000\n",
      "Iteration 18: w0=-1819705620.82495, w1=-1951736036.04321, mse=14147298034353238016.00000\n",
      "Iteration 19: w0=5411120459.18068, w1=5803729274.10369, mse=125096635542888284160.00000\n",
      "Iteration 20: w0=-16090638014.89170, w1=-17258109042.54003, mse=1106159507359641763840.00000\n",
      "Iteration 21: w0=47847508520.78709, w1=51319128463.39086, mse=9781149192478710038528.00000\n",
      "Iteration 22: w0=-142280502978.70789, w1=-152603795605.97766, mse=86489225910908184690688.00000\n",
      "Iteration 23: w0=423088728307.66797, w1=453786319735.20569, mse=764775800007243302174720.00000\n",
      "Iteration 24: w0=-1258106826015.98364, w1=-1349389922767.13525, mse=6762484206751961816498176.00000\n",
      "Iteration 25: w0=3741136739904.12402, w1=4012578353538.69775, mse=59796861571896755506642944.00000\n",
      "Iteration 26: w0=-11124734257148.38281, w1=-11931899572929.34570, mse=528750167028631624321335296.00000\n",
      "Iteration 27: w0=33080777554183.64062, w1=35480983765272.28906, mse=4675441683451173398464430080.00000\n",
      "Iteration 28: w0=-98369796373793.01562, w1=-105507107334922.31250, mse=41342313059106888425832185856.00000\n",
      "Iteration 29: w0=292514794211694.75000, w1=313738473877408.25000, mse=365566927104855854671800041472.00000\n",
      "Iteration 30: w0=-869829032760869.50000, w1=-932940277458791.00000, mse=3232503657979267029928706572288.00000\n",
      "Iteration 31: w0=2586544548191917.00000, w1=2774213664483515.50000, mse=28583219990938129811562555244544.00000\n",
      "Iteration 32: w0=-7691411125409621.00000, w1=-8249468526721352.00000, mse=252745410831521283021614467776512.00000\n",
      "Iteration 33: w0=22871365251152732.00000, w1=24530818171871480.00000, mse=2234886157565408426888961630142464.00000\n",
      "Iteration 34: w0=-68010842213791696.00000, w1=-72945431361089344.00000, mse=19761846993957583733983462983467008.00000\n",
      "Iteration 35: w0=202238677395795008.00000, w1=216912290457430400.00000, mse=174742948445310625810354823992705024.00000\n",
      "Iteration 36: w0=-601381798893623296.00000, w1=-645015607880641792.00000, mse=1545154055726519808816778330471661568.00000\n",
      "Iteration 37: w0=1788283392166064640.00000, w1=1918033936815043840.00000, mse=13662932193657755924912485516609323008.00000\n",
      "Iteration 38: w0=-5317682538082002944.00000, w1=-5703511880684568576.00000, mse=120813659606721925301833290289262886912.00000\n",
      "Iteration 39: w0=15812788789348857856.00000, w1=16960100209241948160.00000, mse=1068287549164901027190974691897096798208.00000\n",
      "Iteration 40: w0=-47021289350368649216.00000, w1=-50432962203807006720.00000, mse=9446268670411621060808456128498849808384.00000\n"
     ]
    }
   ],
   "source": [
    "X = X.flatten()\n",
    "y = y.flatten()\n",
    "num_iterations = 40\n",
    "learning_rate = 1\n",
    "starting_w0 = 0 # initial y-intercept guess\n",
    "starting_w1 = 0 # initial slope guess\n",
    "\n",
    "w0_prime,w1_prime,_ = run_optimization(X, y, starting_w0, starting_w1, learning_rate, num_iterations)"
   ]
  },
  {
   "cell_type": "markdown",
   "metadata": {},
   "source": [
    "Compare your results with the sklearn version of linear regression:"
   ]
  },
  {
   "cell_type": "code",
   "execution_count": 184,
   "metadata": {},
   "outputs": [
    {
     "name": "stdout",
     "output_type": "stream",
     "text": [
      "Requirement already satisfied: sklearn in c:\\programdata\\anaconda3\\lib\\site-packages (0.0)\n",
      "Requirement already satisfied: scikit-learn in c:\\programdata\\anaconda3\\lib\\site-packages (from sklearn) (0.19.2)\n"
     ]
    },
    {
     "name": "stderr",
     "output_type": "stream",
     "text": [
      "WARNING: You are using pip version 19.1, however version 19.2.3 is available.\n",
      "You should consider upgrading via the 'python -m pip install --upgrade pip' command.\n"
     ]
    }
   ],
   "source": [
    "# install sklearn if it isn't installed already \n",
    "!pip install sklearn"
   ]
  },
  {
   "cell_type": "code",
   "execution_count": 185,
   "metadata": {},
   "outputs": [
    {
     "name": "stdout",
     "output_type": "stream",
     "text": [
      "y-intercept w1: [6.45478709]\n",
      "slope w0: [[5.02129039]]\n"
     ]
    }
   ],
   "source": [
    "# import LinearRegression class from sklearn.linear_model module\n",
    "from sklearn.linear_model import LinearRegression\n",
    "\n",
    "# make a lin_reg object form the LinearRegression class\n",
    "lin_reg = LinearRegression()\n",
    "X = np.reshape(X,(100,1))\n",
    "y = np.reshape(y,(100,1))\n",
    "lin_reg.fit(X, y)\n",
    "print('y-intercept w1:', lin_reg.intercept_)\n",
    "print('slope w0:', lin_reg.coef_)"
   ]
  },
  {
   "cell_type": "code",
   "execution_count": 188,
   "metadata": {},
   "outputs": [
    {
     "data": {
      "text/plain": [
       "<matplotlib.legend.Legend at 0x25dcbbb2e48>"
      ]
     },
     "execution_count": 188,
     "metadata": {},
     "output_type": "execute_result"
    },
    {
     "data": {
      "image/png": "[encoded data removed]",
      "text/plain": [
       "<Figure size 432x288 with 1 Axes>"
      ]
     },
     "metadata": {
      "needs_background": "light"
     },
     "output_type": "display_data"
    }
   ],
   "source": [
    "import matplotlib.pyplot as plt\n",
    "%matplotlib inline\n",
    "# TODO\n",
    "# plot the original data points as a scatter plot\n",
    "plt.scatter(X, y)\n",
    "# plot the line that fits these points. \n",
    "y_ = np.multiply(X,lin_reg.intercept_) + lin_reg.coef_\n",
    "y_GD = np.multiply(X,w1) + w0\n",
    "\n",
    "\n",
    "plt.plot(X, y_, color='r', label='sklearn fit')\n",
    "plt.plot(X, y_GD, color='b', label='GD fit')\n",
    "plt.xlabel('')\n",
    "plt.ylabel('')\n",
    "plt.grid()\n",
    "plt.legend(loc='best')"
   ]
  },
  {
   "cell_type": "markdown",
   "metadata": {},
   "source": [
    "# 2.Multivariate Regression\n",
    "\n",
    "In this part we will try to work with more complicated datasets. In order to import datasets into your models first we need to use pandas library for python:"
   ]
  },
  {
   "cell_type": "code",
   "execution_count": null,
   "metadata": {},
   "outputs": [],
   "source": [
    "import pandas as pd\n",
    "\n",
    "# make a dataframe of the data\n",
    "df = pd.read_csv('Psychology grades.csv')\n",
    "\n",
    "# show first five rows of df\n",
    "df.head(n=5)"
   ]
  },
  {
   "cell_type": "markdown",
   "metadata": {},
   "source": [
    "Next we need to seperate features and labels:"
   ]
  },
  {
   "cell_type": "code",
   "execution_count": null,
   "metadata": {},
   "outputs": [],
   "source": [
    "# Extract the last column and set it to the output or dependent varaible y\n",
    "y = df[['FINAL']]\n",
    "\n",
    "# Remove the first column and set the rest of the dataframe to X. This is the set of indepedent variables\n",
    "X = df.drop(columns=['FINAL'])\n",
    "\n",
    "# show first five rows of X\n",
    "X.head(n=5)"
   ]
  },
  {
   "cell_type": "code",
   "execution_count": null,
   "metadata": {},
   "outputs": [],
   "source": [
    "# show first five rows of y\n",
    "y.head(n=5)"
   ]
  },
  {
   "cell_type": "markdown",
   "metadata": {},
   "source": [
    "## Exercise 2.1\n",
    "Now fit a Multivariate Linear Regression model to it."
   ]
  },
  {
   "cell_type": "markdown",
   "metadata": {},
   "source": [
    "##### Hint: \n",
    "Use LinearRegression from sklearn in order to fit the model."
   ]
  },
  {
   "cell_type": "code",
   "execution_count": null,
   "metadata": {},
   "outputs": [],
   "source": [
    "# TODO\n",
    "# fit a linear regression using sklearn. LinearRegression to the exam dataset and show the values of intercept_ and coef_\n",
    "\n",
    "\n",
    "# Display the learned parameters\n",
    "lin_reg.intercept_, lin_reg.coef_"
   ]
  },
  {
   "cell_type": "markdown",
   "metadata": {},
   "source": [
    "find out the grade for 50, 60 and 70 in exams:"
   ]
  },
  {
   "cell_type": "code",
   "execution_count": null,
   "metadata": {},
   "outputs": [],
   "source": [
    "# TODO\n",
    "# use the predict method "
   ]
  },
  {
   "cell_type": "markdown",
   "metadata": {},
   "source": [
    "Now let's load the datapoints from \"nonlinear.csv\" and \"nonlinear_val.csv\" file:"
   ]
  },
  {
   "cell_type": "code",
   "execution_count": null,
   "metadata": {},
   "outputs": [],
   "source": [
    "import numpy as np\n",
    "import matplotlib.pyplot as plt\n",
    "\n",
    "datapoints = np.genfromtxt('nonlinear.csv', delimiter=',')\n",
    "datapoints_val = np.genfromtxt('nonlinear_val.csv', delimiter=',')\n",
    "\n",
    "X = datapoints[:,0]\n",
    "X = X.reshape(-1,1)\n",
    "X.sort(axis=0)\n",
    "\n",
    "\n",
    "y = datapoints[:,1]\n",
    "y = y.reshape(-1,1)\n",
    "\n",
    "\n",
    "X_val = datapoints_val[:,0]\n",
    "X_val = X_val.reshape(-1,1)\n",
    "X_val.sort(axis =0)\n",
    "\n",
    "y_val = datapoints_val[:,1]\n",
    "y_val = y_val.reshape(-1,1)\n",
    "\n",
    "# plot it\n",
    "fig , (ax1,ax2) = plt.subplots(2,figsize=(8, 8), dpi=80)\n",
    "\n",
    "ax1.scatter(X,y)\n",
    "ax2.scatter(X_val,y_val)"
   ]
  },
  {
   "cell_type": "markdown",
   "metadata": {},
   "source": [
    "## Exercise 2.2\n",
    "Fit a normal linear regression on training dataset and check the MSE on each training and validation sets and plot the resulting functions on two separate plots with each corresponding to each set."
   ]
  },
  {
   "cell_type": "code",
   "execution_count": null,
   "metadata": {},
   "outputs": [],
   "source": [
    "from sklearn.metrics import mean_squared_error\n",
    "# TODO\n",
    "# Use sklearn to fit a linear regression on the training data\n",
    "\n",
    "y_ = \n",
    "y_val_ = \n",
    "# use mean_squared_error from sklearn.metrics to calculate MSE\n",
    "print(mean_squared_error(,))\n",
    "print(mean_squared_error(,))\n",
    "\n",
    "# plot the function \n",
    "fig , (ax1,ax2) = plt.subplots(2,figsize=(8, 8), dpi=80)\n",
    "ax1.scatter(X,y)\n",
    "ax2.scatter(X_val,y_val)\n",
    "\n",
    "ax1.plot(X,y_,color='r')\n",
    "ax2.plot(X_val,y_val_,color='r')"
   ]
  },
  {
   "cell_type": "markdown",
   "metadata": {},
   "source": [
    "Now define an RBF function as your basis function"
   ]
  },
  {
   "cell_type": "code",
   "execution_count": null,
   "metadata": {},
   "outputs": [],
   "source": [
    "def RBF(X,C,eps):\n",
    "    "
   ]
  },
  {
   "cell_type": "markdown",
   "metadata": {},
   "source": [
    "Transform datapoints according to the RBF functions with centers at (-5,-4,...,4,5) with epsilon of 0.1 to a 11-dimensional space (number of colums = 11):\n",
    "##### Hint: \n",
    "Use `np.hstack` in order to add new columns to the matrix"
   ]
  },
  {
   "cell_type": "code",
   "execution_count": null,
   "metadata": {},
   "outputs": [],
   "source": [
    "# TODO\n",
    "# transform X and X_val to 12 dimensional space using RBF functions \n",
    "\n",
    "\n",
    "# check the dimensionf of transformed datapoints (it should be (100,11) and (20,11) )\n",
    "print(X_RBF.shape)\n",
    "print(X_RBF_val.shape)"
   ]
  },
  {
   "cell_type": "markdown",
   "metadata": {},
   "source": [
    "Try to fit a linear regression on the new X_RBF:"
   ]
  },
  {
   "cell_type": "code",
   "execution_count": null,
   "metadata": {},
   "outputs": [],
   "source": [
    "# TODO\n",
    "# Fit a linear regression model to the RBF-transformed data\n",
    "clf = LinearRegression()\n",
    "clf.fit(,)\n",
    "\n",
    "# find the predicted values\n",
    "y_= \n",
    "y_val_=\n",
    "\n",
    "#find the mean square error on the training and validation sets\n",
    "print(mean_squared_error(,))\n",
    "print(mean_squared_error(,))\n",
    "\n",
    "\n",
    "fig , (ax1,ax2) = plt.subplots(2,figsize=(8, 8), dpi=80)\n",
    "ax1.plot(X, y_, color='r', label='Fitted for RBF-transformed on training data')\n",
    "ax2.plot(X, y_, color='r', label='Fitted for RBF-transformed on training data')\n",
    "\n",
    "ax1.scatter(X,y)\n",
    "ax2.scatter(X_val,y_val)\n",
    "\n",
    "\n",
    "ax1.legend(loc='best')\n",
    "ax2.legend(loc='best')"
   ]
  },
  {
   "cell_type": "markdown",
   "metadata": {},
   "source": [
    "Now repeat the same procedure but this time put your centers at (-5,-4.9,-4.8,...,4.8,4.9). (your new space should have 100 dimensions)"
   ]
  },
  {
   "cell_type": "code",
   "execution_count": null,
   "metadata": {},
   "outputs": [],
   "source": [
    "# TODO\n",
    "# transform X to 100 dimensions\n",
    "\n",
    "# check the number of dimensions\n",
    "print (X_RBF_2.shape)\n",
    "print (X_RBF_val_2.shape)"
   ]
  },
  {
   "cell_type": "code",
   "execution_count": null,
   "metadata": {},
   "outputs": [],
   "source": [
    "# TODO\n",
    "# repeat the last part on the new data\n",
    "\n",
    "\n",
    "\n",
    "y2_ = \n",
    "\n",
    "y2_val_=\n",
    "\n",
    "\n",
    "print(mean_squared_error(,))\n",
    "print(mean_squared_error(,))\n",
    "\n",
    "fig , (ax1,ax2) = plt.subplots(2,figsize=(8, 8), dpi=80)\n",
    "ax1.plot(X, y2_, color='r', label='Fitted for RBF-transformed on training data')\n",
    "ax2.plot(X, y2_, color='r', label='Fitted for RBF-transformed on training data')\n",
    "\n",
    "ax1.scatter(X,y)\n",
    "ax2.scatter(X_val,y_val)\n",
    "\n",
    "\n",
    "ax1.legend(loc='best')\n",
    "ax2.legend(loc='best')"
   ]
  },
  {
   "cell_type": "markdown",
   "metadata": {},
   "source": [
    "In order to solve overfitting use the Ridge regularization. plot the resulting fit and compare it with the last one.\n",
    "##### Hint: \n",
    "Use the `Ridge` from  `sklearn.linear_model` with `alpha=1`"
   ]
  },
  {
   "cell_type": "code",
   "execution_count": null,
   "metadata": {},
   "outputs": [],
   "source": [
    "from sklearn.linear_model import Ridge\n",
    "\n",
    "# Create Ridge regression object from Ridge class\n",
    "ridge_reg = \n",
    "\n",
    "yRidge_ = \n",
    "yRidge_val_ = \n",
    "\n",
    "# plot original data and predicted fit\n",
    "print(mean_squared_error(,))\n",
    "print(mean_squared_error(,))\n",
    "\n",
    "\n",
    "fig , (ax1,ax2) = plt.subplots(2,figsize=(8, 8), dpi=80)\n",
    "\n",
    "ax1.scatter(X, y, label='Original data')\n",
    "ax1.plot(X, yRidge_, color='b', label='Fit for Ridge_RBF-transformed data')\n",
    "\n",
    "ax2.scatter(X_val, y_val, label='Original data')\n",
    "ax2.plot(X, yRidge_, color='b', label='Fit for Ridge_RBF-transformed data')\n",
    "\n",
    "ax1.legend(loc='best')\n",
    "ax2.legend(loc='best')"
   ]
  },
  {
   "cell_type": "markdown",
   "metadata": {},
   "source": [
    "# 3. Logistic Regression"
   ]
  },
  {
   "cell_type": "markdown",
   "metadata": {},
   "source": [
    "First we need to load a dataset. "
   ]
  },
  {
   "cell_type": "code",
   "execution_count": null,
   "metadata": {},
   "outputs": [],
   "source": [
    "from sklearn import datasets\n",
    "iris = datasets.load_iris()\n",
    "\n",
    "# iris is a dictionary of key-value pairs. Each key-value pairs contains some information about the dataset.\n",
    "# Lets display a list of these keys and see what they hold\n",
    "list(iris.keys())"
   ]
  },
  {
   "cell_type": "markdown",
   "metadata": {},
   "source": [
    "- `data`: holds the data of sepal and petal lengths and widths in four columns,\n",
    "- `target`: holds the class of each flower. These class are encoded as 0, 1, and 2,\n",
    "- `target_names`: holds the names of each of the flower classes,\n",
    "- `DESCR`: contains a detailed description of the dataset, and\n",
    "- `feature_names`: contains a list of name of the columns of data"
   ]
  },
  {
   "cell_type": "markdown",
   "metadata": {},
   "source": [
    "load the petal width of the Iris-Versicolor and plot the data according to the labels of 1 and 0 (1 if Iris-Virginica, else 0)"
   ]
  },
  {
   "cell_type": "code",
   "execution_count": null,
   "metadata": {},
   "outputs": [],
   "source": [
    "iris['DESCR']"
   ]
  },
  {
   "cell_type": "code",
   "execution_count": null,
   "metadata": {},
   "outputs": [],
   "source": [
    "# let us get the petal width. It is present in the 4th column of data\n",
    "X = iris[\"data\"][:, 3] \n",
    "X = X.reshape(-1,1)\n",
    "X.sort(axis=0)\n",
    "\n",
    "# lets define a binaray variable that encodes whether a flower is Iris-Versicolor or not\n",
    "# Iris_virginca flower is encoded as a 2 in target  \n",
    "y = (iris[\"target\"] == 2).astype(np.int) # 1 if Iris-Virginica, else 0"
   ]
  },
  {
   "cell_type": "code",
   "execution_count": null,
   "metadata": {},
   "outputs": [],
   "source": [
    "plt.scatter(X, y)\n",
    "plt.xlabel('Petal width (cm)')\n",
    "plt.ylabel('Iris-Virginica(1) \\n Not Iris-Virginica(0)')"
   ]
  },
  {
   "cell_type": "markdown",
   "metadata": {},
   "source": [
    "Fit a linear regression model to the Iris pedal width for Iris-Versicolor and plot the results."
   ]
  },
  {
   "cell_type": "code",
   "execution_count": null,
   "metadata": {},
   "outputs": [],
   "source": [
    "# TODO\n",
    "# Fit a linear regression to the petal width\n",
    "y_ = \n",
    "\n",
    "plt.scatter(X, y, label='original data')\n",
    "plt.plot(X, y_, color='r', label='fit from linear regression')\n",
    "plt.legend(loc='best')\n",
    "plt.grid()"
   ]
  },
  {
   "cell_type": "markdown",
   "metadata": {},
   "source": [
    "Now fit a logistic regression to the same feature and compare the results to the linear regression in a plot."
   ]
  },
  {
   "cell_type": "code",
   "execution_count": null,
   "metadata": {},
   "outputs": [],
   "source": [
    "from sklearn.linear_model import LogisticRegression\n",
    "\n",
    "X_new = np.linspace(0, 3, 1000).reshape(-1, 1)\n",
    "y_proba = \n",
    "\n",
    "plt.plot(X_new, y_proba[:, 1], \"g-\", label=\"Iris-Versicolor Prob\")\n",
    "plt.plot(X_new, y_proba[:, 0], \"b--\", label=\"not Iris-Versicolor Prob\")\n",
    "plt.scatter(X, y, label='data')\n",
    "plt.grid()\n",
    "\n",
    "plt.legend(loc='best')\n"
   ]
  },
  {
   "cell_type": "markdown",
   "metadata": {},
   "source": [
    "Now import the features of sepal width and length from the dataset and try to fit a logistic regression on these features and and classes. plot the Plot the decision boundaries \n",
    "##### Hint:\n",
    "1. Make an object from LogisticRegression class in sklearn as following: \n",
    "\n",
    "`multiclass_logreg_obj = LogisticRegression(multi_class=\"multinomial\",solver=\"lbfgs\", C=10)`.\n",
    "\n",
    "`multiclass_logreg_obj` is just a name. It could be any (appropriate) name you like."
   ]
  },
  {
   "cell_type": "code",
   "execution_count": null,
   "metadata": {},
   "outputs": [],
   "source": [
    "# TODO\n",
    "# prepare the data\n",
    "X = \n",
    "y = "
   ]
  },
  {
   "cell_type": "code",
   "execution_count": null,
   "metadata": {},
   "outputs": [],
   "source": [
    "from matplotlib.colors import ListedColormap\n",
    "# TODO \n",
    "# fit a multi class logistic regression to the dataset\n",
    "\n",
    "\n",
    "\n",
    "# Step size in the mesh:\n",
    "h = .02\n",
    "# Light colors for decision boundaries plots:\n",
    "cmap_light = ListedColormap(['#FFAAAA', '#AAFFAA', '#AAAAFF'])\n",
    "# Bold colors for training points scatterplots:\n",
    "cmap_bold = ListedColormap(['#FF0000', '#00FF00', '#0000FF'])\n",
    "\n",
    "\n",
    "### Decision boundaries plotting:\n",
    "# Generate the axis associated to the first feature: \n",
    "x_min = \n",
    "x_max = \n",
    "\n",
    "x_axis = np.arange(x_min, x_max, h)\n",
    "\n",
    "# Generate the axis associated to the second feature:\n",
    "y_min = \n",
    "y_max = \n",
    "\n",
    "y_axis = np.arange(y_min, y_max, h)\n",
    "\n",
    "\n",
    "# Generate a meshgrid (2D grid) from the 2 axis:\n",
    "\n",
    "x_grid, y_grid = np.meshgrid(x_axis, y_axis)\n",
    "\n",
    "# Vectorize the grids into column vectors:\n",
    "x_grid_vectorized = x_grid.flatten()\n",
    "x_grid_vectorized = np.expand_dims(x_grid_vectorized, axis=1)\n",
    "y_grid_vectorized = y_grid.flatten()\n",
    "y_grid_vectorized = np.expand_dims(y_grid_vectorized, axis=1)\n",
    "\n",
    "# Concatenate the vectorized grids:\n",
    "concat_grids = np.concatenate((x_grid_vectorized, y_grid_vectorized),axis=1)\n",
    "\n",
    "\n",
    "# Predict concatenated features to get the decision boundaries:\n",
    "decision_boundaries = \n",
    "# Reshape the decision boundaries into a 2D matrix:\n",
    "decision_boundaries = \n",
    "# Plot the decision boundaries:\n",
    "plt.figure()\n",
    "plt.pcolormesh(, , , cmap=cmap_light)\n",
    "# Overlay the training points:\n",
    "plt.scatter(, , c=Y, cmap=cmap_bold, edgecolor='k', s=20)\n",
    "plt.xlim()\n",
    "plt.ylim()\n",
    "plt.xlabel()\n",
    "plt.ylabel()\n",
    "plt.title()"
   ]
  }
 ],
 "metadata": {
  "kernelspec": {
   "display_name": "Python 3",
   "language": "python",
   "name": "python3"
  },
  "language_info": {
   "codemirror_mode": {
    "name": "ipython",
    "version": 3
   },
   "file_extension": ".py",
   "mimetype": "text/x-python",
   "name": "python",
   "nbconvert_exporter": "python",
   "pygments_lexer": "ipython3",
   "version": "3.7.0"
  }
 },
 "nbformat": 4,
 "nbformat_minor": 2
}
