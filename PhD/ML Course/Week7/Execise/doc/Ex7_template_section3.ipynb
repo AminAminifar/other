{
 "cells": [
  {
   "cell_type": "markdown",
   "metadata": {},
   "source": [
    "# Load dependencies"
   ]
  },
  {
   "cell_type": "code",
   "execution_count": null,
   "metadata": {},
   "outputs": [],
   "source": [
    "import numpy as np\n",
    "# Better to fix the seed in the beginning:\n",
    "seed = 666\n",
    "np.random.seed(seed)\n",
    "import matplotlib.pyplot as plt\n",
    "from matplotlib.colors import ListedColormap\n",
    "from mpl_toolkits import mplot3d\n",
    "import seaborn as sns"
   ]
  },
  {
   "cell_type": "markdown",
   "metadata": {},
   "source": [
    "# Load the 'scenery_184_233.txt' dataset and display the image"
   ]
  },
  {
   "cell_type": "code",
   "execution_count": null,
   "metadata": {},
   "outputs": [],
   "source": [
    "# Load the data and store it inside a matrix X:\n",
    "X = ...\n",
    "# Make sure we have the right format:\n",
    "X = np.array(X).astype(float)\n",
    "# Make a copy of X for visualization only and transform it into a displayable image:\n",
    "im_scenery = np.expand_dims(X, axis=1)\n",
    "im_scenery = im_scenery.reshape((184, 233, 3))\n",
    "im_scenery = np.uint8(im_scenery)\n",
    "# Show the image\n",
    "plt.figure(1)\n",
    "plt.axis('off')\n",
    "plt.imshow(im_scenery)\n",
    "plt.title(\"Scenery\")\n",
    "plt.show(block=False)"
   ]
  },
  {
   "cell_type": "markdown",
   "metadata": {},
   "source": [
    "# Perform image segmentation using K-means clustering"
   ]
  },
  {
   "cell_type": "code",
   "execution_count": null,
   "metadata": {},
   "outputs": [],
   "source": [
    "# Set an appropriate number of clusters (print the elbow graph to decide):\n",
    "num_clusters = ...\n",
    "# Fit K-mean and get the predictions:\n",
    "model = ... # Instantiate K-means with either sklearn implementation or your implementation \n",
    "model.fit(X, ...) # Add the necessary hyper-parameters\n",
    "predictions = ... # Extract this somehow ... (in sklearn you have fit_predict and predict that will do the job)\n",
    "# Reshape the predictions into a 2D matrix to get what we call a 'mask' in image processing:\n",
    "predictions_mask = ... \n",
    "# Show the predictions mask:\n",
    "plt.figure(3)\n",
    "sns.heatmap(data=predictions_mask, \n",
    "            fmt='d',\n",
    "            xticklabels=False,\n",
    "            yticklabels=False,\n",
    "            cbar=False,\n",
    "            cmap=[... for k in range(num_clusters)]) # Put the k-th centroid there, in a tuple format and normalized (divide by 255)\n",
    "plt.title(\"Predictions mask\")\n",
    "plt.show(block=False)\n",
    "# Show the separated predictions masks and the corresponding masked Scenery:\n",
    "plt.figure(4, figsize=(21, 9))\n",
    "for k in range(num_clusters):\n",
    "    # Extract the separated mask and duplicate it to get a 3D mask:\n",
    "    predictions_k = predictions_mask == k\n",
    "    predictions_k_expanded = np.expand_dims(predictions_k, 2)\n",
    "    predictions_k_tiled = np.tile(predictions_k_expanded, (1, 1, 3))\n",
    "    # Compute the masked image:\n",
    "    im = im_scenery * predictions_k_tiled\n",
    "    # Show the separated mask:\n",
    "    plt.subplot(2, num_clusters, k + 1)\n",
    "    sns.heatmap(data=predictions_k.astype(int), \n",
    "                fmt='d',\n",
    "                xticklabels=False,\n",
    "                yticklabels=False,\n",
    "                cbar=False,\n",
    "                cmap=[(0.0, 0.0, 0.0), ...]) # Put the k-th centroid there, in a tuple format and normalized (divide by 255)\n",
    "    # Show the masked image:\n",
    "    plt.subplot(2, num_clusters, num_clusters + k + 1)\n",
    "    plt.axis('off')\n",
    "    plt.imshow(im)\n",
    "plt.suptitle(\"Separated predictions masks (top) and corresponding masked Scenery (bottom)\")\n",
    "plt.show()"
   ]
  }
 ],
 "metadata": {
  "kernelspec": {
   "display_name": "Python 3",
   "language": "python",
   "name": "python3"
  },
  "language_info": {
   "codemirror_mode": {
    "name": "ipython",
    "version": 3
   },
   "file_extension": ".py",
   "mimetype": "text/x-python",
   "name": "python",
   "nbconvert_exporter": "python",
   "pygments_lexer": "ipython3",
   "version": "3.6.8"
  }
 },
 "nbformat": 4,
 "nbformat_minor": 2
}
