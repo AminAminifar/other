{
 "cells": [
  {
   "cell_type": "code",
   "execution_count": 1,
   "metadata": {},
   "outputs": [],
   "source": [
    "import numpy as np\n",
    "import pandas as pd\n",
    "from random import random\n",
    "from numpy import linalg as LA\n",
    "import matplotlib.pyplot as plt\n",
    "from sklearn import datasets\n",
    "from scipy.stats.mstats import gmean"
   ]
  },
  {
   "cell_type": "code",
   "execution_count": 2,
   "metadata": {},
   "outputs": [],
   "source": [
    "iris = datasets.load_iris()\n",
    "X = iris.data\n",
    "y = iris.target\n",
    "n = X.shape[0]  #num of observations\n",
    "d = X.shape[1]  #dimentionality of data\n",
    "\n",
    "k = 3  #num of clusters\n",
    "r = 5  #num of restarts\n",
    "p = 0  #percision of the optimization"
   ]
  },
  {
   "cell_type": "code",
   "execution_count": 3,
   "metadata": {},
   "outputs": [],
   "source": [
    "def best_cluster(mu_mat, sample):\n",
    "    '''input: cluster centeroids and one sample\n",
    "    output: number fo the best cluster for the input sample'''\n",
    "    distances = LA.norm(mu_mat - sample, axis=1)**2\n",
    "    cluster_num = np.argmin(distances, axis=0)\n",
    "    return cluster_num"
   ]
  },
  {
   "cell_type": "code",
   "execution_count": 4,
   "metadata": {},
   "outputs": [],
   "source": [
    "def partition(data, mu_mat):\n",
    "    '''input: data samples and clusters mu (matrix)\n",
    "    output: a vector containing cluster number for each sample'''\n",
    "    cluster_num_vec = [None] * data.shape[0]\n",
    "    for i in range(0,data.shape[0]):\n",
    "        cluster_num_vec[i] = best_cluster(mu_mat, data[i,:])\n",
    "    cluster_num_vec = np.array(cluster_num_vec)\n",
    "    return cluster_num_vec"
   ]
  },
  {
   "cell_type": "code",
   "execution_count": 5,
   "metadata": {},
   "outputs": [],
   "source": [
    "def cost(data, mu_mat, cluster_num_vec):\n",
    "    '''input: samples, cluster centers, and a vector containing the respective cluster for each sample\n",
    "    output: the cost value of this partitioning'''\n",
    "    cluster_num_vec = np.array(cluster_num_vec)\n",
    "    cost_val = 0\n",
    "    for i in range(mu_mat.shape[0]):\n",
    "        cluster = data[cluster_num_vec==i, :]  #the i-th cluster\n",
    "        for j in range(cluster.shape[0]):\n",
    "            cost_val = cost_val + LA.norm(mu_mat[i,:] - cluster[j,:], axis=0)**2\n",
    "#         if cluster:  #this means it is not empty\n",
    "    cost_val = cost_val/data.shape[0]\n",
    "    return cost_val"
   ]
  },
  {
   "cell_type": "code",
   "execution_count": 6,
   "metadata": {},
   "outputs": [],
   "source": [
    "def update_centeroids(data, cluster_num_vec, num_of_clusters):\n",
    "    '''input: data and a vector containing the respective cluster for each sample, and number of clusters\n",
    "    output: updated mu matrix (the mean of clusters)'''\n",
    "    new_mu_mat = [None] * num_of_clusters\n",
    "    for i in range(num_of_clusters):\n",
    "        new_mu_mat[i] = [None] * data.shape[1]\n",
    "    new_mu_mat = np.array(new_mu_mat)\n",
    "    for i in range(num_of_clusters):\n",
    "        cluster = data[cluster_num_vec==i, :]  #the i-th cluster\n",
    "        if cluster.shape:  #this means it is not empty\n",
    "            new_mu_mat[i,:] = cluster.mean(0)\n",
    "        else:\n",
    "            pass\n",
    "    return new_mu_mat"
   ]
  },
  {
   "cell_type": "code",
   "execution_count": 7,
   "metadata": {
    "scrolled": true
   },
   "outputs": [],
   "source": [
    "def Lloyd(X, n, d, k, r, p):\n",
    "    final_cost = float(\"inf\")\n",
    "    for restart in range(1,r):\n",
    "        #initialization\n",
    "        random_indeces = np.random.randint(n, size=k)\n",
    "        mu_mat = X[random_indeces,:]\n",
    "        main_partition = partition(X, mu_mat)\n",
    "        previous_cost = cost(X, mu_mat, main_partition);\n",
    "        new_cost = 0\n",
    "        flag = True\n",
    "        while abs(previous_cost-new_cost) > p and flag:\n",
    "            new_mu_mat = update_centeroids(X, main_partition, k)\n",
    "            new_mu_mat = np.float64(new_mu_mat)\n",
    "            new_partition = partition(X, new_mu_mat)\n",
    "            new_cost = cost(X, mu_mat, new_partition)\n",
    "            previous_cost = cost(X, mu_mat, main_partition)\n",
    "            if abs(previous_cost-new_cost) > p:\n",
    "                main_partition = new_partition\n",
    "                mu_mat = new_mu_mat\n",
    "        previous_cost = cost(X, mu_mat, main_partition);\n",
    "        if final_cost > previous_cost:\n",
    "            final_partition = main_partition\n",
    "            final_mu = mu_mat\n",
    "            final_cost = previous_cost\n",
    "#     print(\"final_cost cost:\", final_cost)\n",
    "    return final_partition, final_mu, final_cost"
   ]
  },
  {
   "cell_type": "code",
   "execution_count": 8,
   "metadata": {},
   "outputs": [
    {
     "name": "stderr",
     "output_type": "stream",
     "text": [
      "C:\\ProgramData\\Anaconda3\\lib\\site-packages\\ipykernel_launcher.py:11: RuntimeWarning: Mean of empty slice.\n",
      "  # This is added back by InteractiveShellApp.init_path()\n",
      "C:\\Users\\Amin\\AppData\\Roaming\\Python\\Python37\\site-packages\\numpy\\core\\_methods.py:154: RuntimeWarning: invalid value encountered in true_divide\n",
      "  ret, rcount, out=ret, casting='unsafe', subok=False)\n"
     ]
    },
    {
     "data": {
      "text/plain": [
       "[<matplotlib.lines.Line2D at 0x1b908d995f8>]"
      ]
     },
     "execution_count": 8,
     "metadata": {},
     "output_type": "execute_result"
    },
    {
     "data": {
      "image/png": "[encoded data removed]",
      "text/plain": [
       "<Figure size 432x288 with 1 Axes>"
      ]
     },
     "metadata": {
      "needs_background": "light"
     },
     "output_type": "display_data"
    }
   ],
   "source": [
    "cluster_range = range (2,10)\n",
    "the_cost = [None] * (len(cluster_range))\n",
    "the_cost = np.array(the_cost)\n",
    "for number_of_clusters in cluster_range:\n",
    "    _, _, the_cost[number_of_clusters-2] = Lloyd(X=X, n=n, d=d, k=number_of_clusters, r=r, p=p)\n",
    "plt.plot(cluster_range, the_cost)"
   ]
  },
  {
   "cell_type": "code",
   "execution_count": 9,
   "metadata": {},
   "outputs": [
    {
     "name": "stdout",
     "output_type": "stream",
     "text": [
      "1.0 0.96 0.72\n"
     ]
    },
    {
     "data": {
      "text/plain": [
       "0.8841675596736928"
      ]
     },
     "execution_count": 9,
     "metadata": {},
     "output_type": "execute_result"
    }
   ],
   "source": [
    "partitions, mus, outcost = Lloyd(X=X, n=n, d=d, k=k, r=r, p=p)\n",
    "\n",
    "\n",
    "ratio_cat1 = np.amax(np.bincount(partitions[y==0]))/len(partitions[y==0])\n",
    "ratio_cat2 = np.amax(np.bincount(partitions[y==1]))/len(partitions[y==1])\n",
    "ratio_cat3 = np.amax(np.bincount(partitions[y==2]))/len(partitions[y==2])\n",
    "print(ratio_cat1, ratio_cat2, ratio_cat3)\n",
    "gmean([ratio_cat1, ratio_cat2, ratio_cat3])"
   ]
  }
 ],
 "metadata": {
  "kernelspec": {
   "display_name": "Python 3",
   "language": "python",
   "name": "python3"
  },
  "language_info": {
   "codemirror_mode": {
    "name": "ipython",
    "version": 3
   },
   "file_extension": ".py",
   "mimetype": "text/x-python",
   "name": "python",
   "nbconvert_exporter": "python",
   "pygments_lexer": "ipython3",
   "version": "3.7.0"
  }
 },
 "nbformat": 4,
 "nbformat_minor": 2
}
