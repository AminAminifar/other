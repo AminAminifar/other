{
 "cells": [
  {
   "cell_type": "markdown",
   "metadata": {},
   "source": [
    "# Load dependencies"
   ]
  },
  {
   "cell_type": "code",
   "execution_count": 1,
   "metadata": {},
   "outputs": [
    {
     "name": "stderr",
     "output_type": "stream",
     "text": [
      "Using TensorFlow backend.\n"
     ]
    }
   ],
   "source": [
    "import numpy as np\n",
    "# Better to fix the seed in the beginning:\n",
    "seed = 666\n",
    "np.random.seed(seed)\n",
    "\n",
    "import matplotlib\n",
    "matplotlib.use('TkAgg')\n",
    "import matplotlib.pyplot as plt\n",
    "\n",
    "from sklearn.model_selection import train_test_split, KFold\n",
    "from sklearn.datasets import load_wine\n",
    "from sklearn.preprocessing import scale\n",
    "\n",
    "from keras import backend \n",
    "from keras.models import Sequential\n",
    "from keras.losses import categorical_crossentropy\n",
    "from keras.callbacks import LearningRateScheduler\n",
    "from keras.optimizers import SGD\n",
    "from keras.utils import to_categorical\n",
    "from keras.layers import Dense"
   ]
  },
  {
   "cell_type": "markdown",
   "metadata": {},
   "source": [
    "# Utility functions (data preprocessing and KFold cross-validation)"
   ]
  },
  {
   "cell_type": "code",
   "execution_count": 3,
   "metadata": {},
   "outputs": [],
   "source": [
    "### Scale and center features, transform labels into a one-hot encoding vector:\n",
    "def preprocess_data(X, y):\n",
    "### TO DO ###\n",
    "    X_out = scale(X)\n",
    "    y_out = to_categorical(y)\n",
    "    return X_out, y_out\n",
    "\n",
    "### Training history plot function: (this function is finished, nothing to add !)\n",
    "def print_training_history(training_history, fig_idx):\n",
    "    epoch_absciss = range(1, len(training_history.history['loss'])+1)\n",
    "    plt.figure(fig_idx, figsize=(10, 5))\n",
    "    plt.suptitle(\"MLP model assessment\")\n",
    "    plt.subplot(1, 2, 1)\n",
    "    plt.plot(epoch_absciss, training_history.history['loss'])\n",
    "    plt.plot(epoch_absciss, training_history.history['val_loss'])\n",
    "    plt.title(\"Train/Validation loss\")\n",
    "    plt.ylabel('Loss')\n",
    "    plt.xlabel('Epochs')\n",
    "    plt.legend(['Train loss', 'Validation loss'], loc='best')\n",
    "    plt.subplot(1, 2, 2)\n",
    "    plt.plot(epoch_absciss, training_history.history['acc'])\n",
    "    plt.plot(epoch_absciss, training_history.history['val_acc'])\n",
    "    plt.title(\"Train/Validation accuracy\")\n",
    "    plt.ylabel('Accuracy')\n",
    "    plt.xlabel('Epochs')\n",
    "    plt.legend(['Train accuracy', 'Validation accuracy'], loc='best')\n",
    "    plt.show()\n",
    "    \n",
    "### Select a MLP model on a list of hyper-parameters instances, via Kfold cross-validation:\n",
    "def KFold_model_selection(X, y, fixed_hyper_parameters, hyper_parameters_instances, num_folds, seed):\n",
    "### TO DO ###\n",
    "    def KFold_split(X, Y, num_folds, seed):\n",
    "        KFold_splitter = KFold(n_splits=num_folds, shuffle=True, random_state=seed)\n",
    "        X_train_folds = []\n",
    "        X_val_folds = []\n",
    "        Y_train_folds = []\n",
    "        Y_val_folds = []\n",
    "        for (kth_fold_train_idxs, kth_fold_val_idxs) in KFold_splitter.split(X, Y):\n",
    "            X_train_folds.append(X[kth_fold_train_idxs])\n",
    "            X_val_folds.append(X[kth_fold_val_idxs])\n",
    "            Y_train_folds.append(Y[kth_fold_train_idxs])\n",
    "            Y_val_folds.append(Y[kth_fold_val_idxs])\n",
    "        return X_train_folds, X_val_folds, Y_train_folds, Y_val_folds\n",
    "    \n",
    "    X_train_val, X_test, Y_train_val, Y_test = train_test_split(X, Y, test_size = 0.3, random_state = 0)\n",
    "    X_train_folds, X_val_folds, Y_train_folds, Y_val_folds = KFold_split(X_train_val, Y_train_val, num_folds, seed)\n",
    "    mean_val_MSEs = []\n",
    "    for hyper_parameters_instance in hyper_parameters_instances:\n",
    "        print(\"\\nNow preprocessing hyper-parameter instance\", hyper_parameters_instance)\n",
    "        mean_val_MSE = perform_KFold_CV(X_train_folds, X_val_folds, Y_train_folds, Y_val_folds,\n",
    "                                       hyper_parameters_instance[\"Flag\"], \n",
    "                                       hyper_parameters_instance[\"HiddenLayerActivationRelu\"])\n",
    "        print(\"Mean validation MSE:\", mean_val_MSE)\n",
    "        mean_val_MSEs.append(mean_val_MSE)\n",
    "    best_instance_idx = mean_val_MSEs.index(min(mean_val_MSEs))\n",
    "    best_hyper_parameters_instance = hyper_parameters_instances[best_instance_idx]\n",
    "    print(\"\\n\\nBest hyper-parameter instance:\", best_hyper_parameters_instance)\n",
    "    best_model_test_MSE = assess_MLP(X_train_val, X_test, Y_train_val, Y_test,\n",
    "                                       hyper_parameters_instances[best_instance_idx][\"Flag\"],\n",
    "                                       hyper_parameters_instances[best_instance_idx][\"HiddenLayerActivationRelu\"])\n",
    "    print(\"Test MSE:\", best_model_test_MSE)\n",
    "                                       \n",
    "    return best_hyper_parameters_instance, X_train_val, X_test, Y_train_val, Y_test\n",
    "\n",
    "### KFold cross-validation of a MLP model with given hyper-parameters:\n",
    "def perform_KFold_CV(X_train_folds, X_val_folds, y_train_folds, y_val_folds, fixed_hyper_parameters, hyper_parameters_instance):\n",
    "### TO DO ###\n",
    "    val_fold_MSEs = []\n",
    "    # For each fold, assess a surrogate model with fixed hyper-parameters:\n",
    "    cmpt = 0\n",
    "    for X_train_fold, X_val_fold, Y_train_fold, Y_val_fold in zip(X_train_folds, X_val_folds, Y_train_folds, Y_val_folds):\n",
    "        val_fold_MSE = assess_MLP(X_train_fold, X_val_fold, Y_train_fold, Y_val_fold, degree, regularization)\n",
    "        cmpt += 1\n",
    "        print(\"Surrogate model\", str(cmpt) + \"/\" + str(len(X_val_folds)), \"validation MSE:\", val_fold_MSE)\n",
    "        val_fold_MSEs.append(val_fold_MSE)\n",
    "    # Compute the mean validation MSE between all the folds:\n",
    "    mean_val_MSE = np.mean(val_fold_MSE)\n",
    "    return mean_val_MSE\n",
    "### Fit and evaluate a MLP model with given hyper-parameters:\n",
    "def assess_MLP(X_train, X_test, y_train, y_test, fixed_hyper_parameters, hyper_parameters_instance, verbose=False):\n",
    "### TO DO ###\n",
    "    pass\n",
    "    return"
   ]
  },
  {
   "cell_type": "markdown",
   "metadata": {},
   "source": [
    "# MLP (multi-layer perceptron) builder"
   ]
  },
  {
   "cell_type": "code",
   "execution_count": 4,
   "metadata": {},
   "outputs": [],
   "source": [
    "### Build a simple fully-connected MLP with SGD model:\n",
    "def build_MLP(input_shape, num_classes, sgd): #add hyper parameters here\n",
    "    MLP = Sequential()\n",
    "    # Hidden layers (fully connected/dense):\n",
    "    MLP.add(Dense(10, activation='relu'))\n",
    "    # Output layer (fully-connected/dense):\n",
    "    MLP.add(Dense(3, activation='softmax'))\n",
    "    MLP.compile(loss='categorical_crossentropy', optimizer=sgd, metrics=['accuracy'])\n",
    "    return MLP"
   ]
  },
  {
   "cell_type": "markdown",
   "metadata": {},
   "source": [
    "# Load and preprocess the Wine dataset"
   ]
  },
  {
   "cell_type": "code",
   "execution_count": 5,
   "metadata": {},
   "outputs": [],
   "source": [
    "# Load the Wine dataset:\n",
    "X = load_wine().data\n",
    "y = load_wine().target\n",
    "# Get the shape of the individual feature vectors in the dataset:\n",
    "input_shape = X.shape[1]\n",
    "# Get the number of classes:\n",
    "num_classes = (np.unique(y)).shape[0]\n",
    "# Preprocess data: (implement the preprocess_data function)\n",
    "X, y = preprocess_data(X, y)"
   ]
  },
  {
   "cell_type": "markdown",
   "metadata": {},
   "source": [
    "# Train, validate and evaluate a MLP model, and plot the results:"
   ]
  },
  {
   "cell_type": "code",
   "execution_count": 6,
   "metadata": {},
   "outputs": [
    {
     "ename": "ValueError",
     "evalue": "This model has not yet been built. Build the model first by calling build() or calling fit() with some data. Or specify input_shape or batch_input_shape in the first layer for automatic build. ",
     "output_type": "error",
     "traceback": [
      "\u001b[1;31m---------------------------------------------------------------------------\u001b[0m",
      "\u001b[1;31mValueError\u001b[0m                                Traceback (most recent call last)",
      "\u001b[1;32m<ipython-input-6-f7be27c63a4a>\u001b[0m in \u001b[0;36m<module>\u001b[1;34m()\u001b[0m\n\u001b[0;32m     20\u001b[0m \u001b[1;31m# Load an MLP:\u001b[0m\u001b[1;33m\u001b[0m\u001b[1;33m\u001b[0m\u001b[0m\n\u001b[0;32m     21\u001b[0m \u001b[0mmodel\u001b[0m \u001b[1;33m=\u001b[0m \u001b[0mbuild_MLP\u001b[0m\u001b[1;33m(\u001b[0m\u001b[0minput_shape\u001b[0m\u001b[1;33m,\u001b[0m \u001b[0mnum_classes\u001b[0m\u001b[1;33m,\u001b[0m \u001b[0msgd\u001b[0m\u001b[1;33m)\u001b[0m\u001b[1;33m\u001b[0m\u001b[0m\n\u001b[1;32m---> 22\u001b[1;33m \u001b[0mmodel\u001b[0m\u001b[1;33m.\u001b[0m\u001b[0msummary\u001b[0m\u001b[1;33m(\u001b[0m\u001b[1;33m)\u001b[0m\u001b[1;33m\u001b[0m\u001b[0m\n\u001b[0m\u001b[0;32m     23\u001b[0m \u001b[1;31m# Train and validate MLP, store the training history in a variable:\u001b[0m\u001b[1;33m\u001b[0m\u001b[1;33m\u001b[0m\u001b[0m\n\u001b[0;32m     24\u001b[0m \u001b[0mtraining_history\u001b[0m \u001b[1;33m=\u001b[0m \u001b[0mmodel\u001b[0m\u001b[1;33m.\u001b[0m\u001b[0mfit\u001b[0m\u001b[1;33m(\u001b[0m\u001b[0mX_train_val\u001b[0m\u001b[1;33m,\u001b[0m \u001b[0mY_train_val\u001b[0m\u001b[1;33m,\u001b[0m \u001b[0mnum_epochs\u001b[0m\u001b[1;33m,\u001b[0m \u001b[0mtrain_batch_size\u001b[0m\u001b[1;33m)\u001b[0m\u001b[1;33m\u001b[0m\u001b[0m\n",
      "\u001b[1;32m~\\AppData\\Roaming\\Python\\Python37\\site-packages\\keras\\engine\\network.py\u001b[0m in \u001b[0;36msummary\u001b[1;34m(self, line_length, positions, print_fn)\u001b[0m\n\u001b[0;32m   1318\u001b[0m         \u001b[1;32mif\u001b[0m \u001b[1;32mnot\u001b[0m \u001b[0mself\u001b[0m\u001b[1;33m.\u001b[0m\u001b[0mbuilt\u001b[0m\u001b[1;33m:\u001b[0m\u001b[1;33m\u001b[0m\u001b[0m\n\u001b[0;32m   1319\u001b[0m             raise ValueError(\n\u001b[1;32m-> 1320\u001b[1;33m                 \u001b[1;34m'This model has not yet been built. '\u001b[0m\u001b[1;33m\u001b[0m\u001b[0m\n\u001b[0m\u001b[0;32m   1321\u001b[0m                 \u001b[1;34m'Build the model first by calling build() '\u001b[0m\u001b[1;33m\u001b[0m\u001b[0m\n\u001b[0;32m   1322\u001b[0m                 \u001b[1;34m'or calling fit() with some data. '\u001b[0m\u001b[1;33m\u001b[0m\u001b[0m\n",
      "\u001b[1;31mValueError\u001b[0m: This model has not yet been built. Build the model first by calling build() or calling fit() with some data. Or specify input_shape or batch_input_shape in the first layer for automatic build. "
     ]
    }
   ],
   "source": [
    "# Number of epochs:\n",
    "num_epochs = 20\n",
    "# Train batch size:\n",
    "train_batch_size = 16\n",
    "# Split data into train/val/test sets:\n",
    "X_train_val, X_test, Y_train_val, Y_test = train_test_split(X, y, test_size = 0.3, random_state = 0)\n",
    "\n",
    "# KFold_splitter = KFold(n_splits=5, shuffle=True, random_state=seed)\n",
    "# X_train_folds = []\n",
    "# X_val_folds = []\n",
    "# Y_train_folds = []\n",
    "# Y_val_folds = []\n",
    "# for (kth_fold_train_idxs, kth_fold_val_idxs) in KFold_splitter.split(X_train_val, Y_train_val):\n",
    "#     X_train_folds.append(X_train_val[kth_fold_train_idxs])\n",
    "#     X_val_folds.append(X_train_val[kth_fold_val_idxs])\n",
    "#     Y_train_folds.append(Y_train_val[kth_fold_train_idxs])\n",
    "#     Y_val_folds.append(Y_train_val[kth_fold_val_idxs])\n",
    "\n",
    "sgd = SGD(lr=0.01, decay=1e-6, momentum=0.9, nesterov=True)\n",
    "# Load an MLP:\n",
    "model = build_MLP(input_shape, num_classes, sgd)\n",
    "model.summary()\n",
    "# Train and validate MLP, store the training history in a variable:\n",
    "training_history = model.fit(X_train_val, Y_train_val, num_epochs, train_batch_size)\n",
    "# Evaluate the model:\n",
    "test_loss, test_accuracy = model.evaluate(X_test, Y_test, train_batch_size)\n",
    "print(\"Test loss:\", test_loss)\n",
    "print(\"Test accuracy:\", test_accuracy)\n",
    "# Plot training history:\n",
    "print_training_history(training_history, fig_idx=1)"
   ]
  },
  {
   "cell_type": "markdown",
   "metadata": {},
   "source": [
    "# Model selection of our MLP"
   ]
  },
  {
   "cell_type": "code",
   "execution_count": 7,
   "metadata": {},
   "outputs": [
    {
     "ename": "NameError",
     "evalue": "name 'Y' is not defined",
     "output_type": "error",
     "traceback": [
      "\u001b[1;31m---------------------------------------------------------------------------\u001b[0m",
      "\u001b[1;31mNameError\u001b[0m                                 Traceback (most recent call last)",
      "\u001b[1;32m<ipython-input-7-4465424bf932>\u001b[0m in \u001b[0;36m<module>\u001b[1;34m()\u001b[0m\n\u001b[0;32m     14\u001b[0m                           \"train batch size\": train_batch_size}\n\u001b[0;32m     15\u001b[0m \u001b[1;31m# Select model with KFold cross-validation:\u001b[0m\u001b[1;33m\u001b[0m\u001b[1;33m\u001b[0m\u001b[0m\n\u001b[1;32m---> 16\u001b[1;33m \u001b[0mKFold_model_selection\u001b[0m\u001b[1;33m(\u001b[0m\u001b[0mX\u001b[0m\u001b[1;33m,\u001b[0m \u001b[0my\u001b[0m\u001b[1;33m,\u001b[0m \u001b[0mfixed_hyper_parameters\u001b[0m\u001b[1;33m,\u001b[0m \u001b[0mhyper_parameters_instances\u001b[0m\u001b[1;33m,\u001b[0m \u001b[0mnum_folds\u001b[0m\u001b[1;33m,\u001b[0m \u001b[0mseed\u001b[0m\u001b[1;33m)\u001b[0m\u001b[1;33m\u001b[0m\u001b[0m\n\u001b[0m",
      "\u001b[1;32m<ipython-input-3-5738b255faa1>\u001b[0m in \u001b[0;36mKFold_model_selection\u001b[1;34m(X, y, fixed_hyper_parameters, hyper_parameters_instances, num_folds, seed)\u001b[0m\n\u001b[0;32m     43\u001b[0m         \u001b[1;32mreturn\u001b[0m \u001b[0mX_train_folds\u001b[0m\u001b[1;33m,\u001b[0m \u001b[0mX_val_folds\u001b[0m\u001b[1;33m,\u001b[0m \u001b[0mY_train_folds\u001b[0m\u001b[1;33m,\u001b[0m \u001b[0mY_val_folds\u001b[0m\u001b[1;33m\u001b[0m\u001b[0m\n\u001b[0;32m     44\u001b[0m \u001b[1;33m\u001b[0m\u001b[0m\n\u001b[1;32m---> 45\u001b[1;33m     \u001b[0mX_train_val\u001b[0m\u001b[1;33m,\u001b[0m \u001b[0mX_test\u001b[0m\u001b[1;33m,\u001b[0m \u001b[0mY_train_val\u001b[0m\u001b[1;33m,\u001b[0m \u001b[0mY_test\u001b[0m \u001b[1;33m=\u001b[0m \u001b[0mtrain_test_split\u001b[0m\u001b[1;33m(\u001b[0m\u001b[0mX\u001b[0m\u001b[1;33m,\u001b[0m \u001b[0mY\u001b[0m\u001b[1;33m,\u001b[0m \u001b[0mtest_size\u001b[0m \u001b[1;33m=\u001b[0m \u001b[1;36m0.3\u001b[0m\u001b[1;33m,\u001b[0m \u001b[0mrandom_state\u001b[0m \u001b[1;33m=\u001b[0m \u001b[1;36m0\u001b[0m\u001b[1;33m)\u001b[0m\u001b[1;33m\u001b[0m\u001b[0m\n\u001b[0m\u001b[0;32m     46\u001b[0m     \u001b[0mX_train_folds\u001b[0m\u001b[1;33m,\u001b[0m \u001b[0mX_val_folds\u001b[0m\u001b[1;33m,\u001b[0m \u001b[0mY_train_folds\u001b[0m\u001b[1;33m,\u001b[0m \u001b[0mY_val_folds\u001b[0m \u001b[1;33m=\u001b[0m \u001b[0mKFold_split\u001b[0m\u001b[1;33m(\u001b[0m\u001b[0mX_train_val\u001b[0m\u001b[1;33m,\u001b[0m \u001b[0mY_train_val\u001b[0m\u001b[1;33m,\u001b[0m \u001b[0mnum_folds\u001b[0m\u001b[1;33m,\u001b[0m \u001b[0mseed\u001b[0m\u001b[1;33m)\u001b[0m\u001b[1;33m\u001b[0m\u001b[0m\n\u001b[0;32m     47\u001b[0m     \u001b[0mmean_val_MSEs\u001b[0m \u001b[1;33m=\u001b[0m \u001b[1;33m[\u001b[0m\u001b[1;33m]\u001b[0m\u001b[1;33m\u001b[0m\u001b[0m\n",
      "\u001b[1;31mNameError\u001b[0m: name 'Y' is not defined"
     ]
    }
   ],
   "source": [
    "# Number of folds in KFold cross-validation:\n",
    "num_folds = 5\n",
    "# Number of epochs:\n",
    "num_epochs = 5\n",
    "# Train batch size:\n",
    "train_batch_size = 16\n",
    "# Create the list of hyper-parameters instances:\n",
    "hyper_parameters_instances = [{\"Flag\": True, \"HiddenLayerActivationRelu\": True},\n",
    "                              {\"Flag\": True, \"HiddenLayerActivationRelu\": False},\n",
    "                              {\"Flag\": False, \"HiddenLayerActivationRelu\": True},\n",
    "                              {\"Flag\": False, \"HiddenLayerActivationRelu\": False}]\n",
    "# Also store the fixed hyper-parameters:\n",
    "fixed_hyper_parameters = {\"epochs\": num_epochs, \n",
    "                          \"train batch size\": train_batch_size}\n",
    "# Select model with KFold cross-validation:\n",
    "KFold_model_selection(X, y, fixed_hyper_parameters, hyper_parameters_instances, num_folds, seed)"
   ]
  }
 ],
 "metadata": {
  "kernelspec": {
   "display_name": "Python 3",
   "language": "python",
   "name": "python3"
  },
  "language_info": {
   "codemirror_mode": {
    "name": "ipython",
    "version": 3
   },
   "file_extension": ".py",
   "mimetype": "text/x-python",
   "name": "python",
   "nbconvert_exporter": "python",
   "pygments_lexer": "ipython3",
   "version": "3.7.0"
  }
 },
 "nbformat": 4,
 "nbformat_minor": 2
}
