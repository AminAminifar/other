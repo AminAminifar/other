{
 "cells": [
  {
   "cell_type": "markdown",
   "metadata": {},
   "source": [
    "# Load dependencies"
   ]
  },
  {
   "cell_type": "code",
   "execution_count": null,
   "metadata": {},
   "outputs": [],
   "source": [
    "import numpy as np\n",
    "# Better to fix the seed in the beginning:\n",
    "seed = 666\n",
    "np.random.seed(seed)\n",
    "\n",
    "import matplotlib\n",
    "matplotlib.use('TkAgg')\n",
    "import matplotlib.pyplot as plt\n",
    "\n",
    "from sklearn.model_selection import train_test_split, KFold\n",
    "from sklearn.datasets import load_wine\n",
    "from sklearn.preprocessing import scale\n",
    "\n",
    "from keras import backend \n",
    "from keras.models import Sequential\n",
    "from keras.losses import categorical_crossentropy\n",
    "from keras.callbacks import LearningRateScheduler\n",
    "from keras.optimizers import SGD\n",
    "from keras.utils import to_categorical\n",
    "from keras.layers import Dense"
   ]
  },
  {
   "cell_type": "markdown",
   "metadata": {},
   "source": [
    "# Utility functions (data preprocessing and KFold cross-validation)"
   ]
  },
  {
   "cell_type": "code",
   "execution_count": null,
   "metadata": {},
   "outputs": [],
   "source": [
    "### Scale and center features, transform labels into a one-hot encoding vector:\n",
    "def preprocess_data(X, y):\n",
    "### TO DO ###\n",
    "\n",
    "### Training history plot function: (this function is finished, nothing to add !)\n",
    "def print_training_history(training_history, fig_idx):\n",
    "    epoch_absciss = range(1, len(training_history.history['loss'])+1)\n",
    "    plt.figure(fig_idx, figsize=(10, 5))\n",
    "    plt.suptitle(\"MLP model assessment\")\n",
    "    plt.subplot(1, 2, 1)\n",
    "    plt.plot(epoch_absciss, training_history.history['loss'])\n",
    "    plt.plot(epoch_absciss, training_history.history['val_loss'])\n",
    "    plt.title(\"Train/Validation loss\")\n",
    "    plt.ylabel('Loss')\n",
    "    plt.xlabel('Epochs')\n",
    "    plt.legend(['Train loss', 'Validation loss'], loc='best')\n",
    "    plt.subplot(1, 2, 2)\n",
    "    plt.plot(epoch_absciss, training_history.history['acc'])\n",
    "    plt.plot(epoch_absciss, training_history.history['val_acc'])\n",
    "    plt.title(\"Train/Validation accuracy\")\n",
    "    plt.ylabel('Accuracy')\n",
    "    plt.xlabel('Epochs')\n",
    "    plt.legend(['Train accuracy', 'Validation accuracy'], loc='best')\n",
    "    plt.show()\n",
    "    \n",
    "### Select a MLP model on a list of hyper-parameters instances, via Kfold cross-validation:\n",
    "def KFold_model_selection(X, y, fixed_hyper_parameters, hyper_parameters_instances, num_folds, seed):\n",
    "### TO DO ###\n",
    "\n",
    "### KFold cross-validation of a MLP model with given hyper-parameters:\n",
    "def perform_KFold_CV(X_train_folds, X_val_folds, y_train_folds, y_val_folds, fixed_hyper_parameters, hyper_parameters_instance):\n",
    "### TO DO ###\n",
    "\n",
    "### Fit and evaluate a MLP model with given hyper-parameters:\n",
    "def assess_MLP(X_train, X_test, y_train, y_test, fixed_hyper_parameters, hyper_parameters_instance, verbose=False):\n",
    "### TO DO ###"
   ]
  },
  {
   "cell_type": "markdown",
   "metadata": {},
   "source": [
    "# MLP (multi-layer perceptron) builder"
   ]
  },
  {
   "cell_type": "code",
   "execution_count": null,
   "metadata": {},
   "outputs": [],
   "source": [
    "### Build a simple fully-connected MLP with SGD model:\n",
    "def build_MLP(input_shape, num_classes, ...): #add hyper parameters here\n",
    "    MLP = Sequential()\n",
    "    # Hidden layers (fully connected/dense):\n",
    "    MLP.add(Dense(...))\n",
    "    # Output layer (fully-connected/dense):\n",
    "    MLP.add(Dense(...))\n",
    "    MLP.compile(...)\n",
    "    return MLP"
   ]
  },
  {
   "cell_type": "markdown",
   "metadata": {},
   "source": [
    "# Load and preprocess the Wine dataset"
   ]
  },
  {
   "cell_type": "code",
   "execution_count": null,
   "metadata": {},
   "outputs": [],
   "source": [
    "# Load the Wine dataset:\n",
    "X = ...\n",
    "y = ...\n",
    "# Get the shape of the individual feature vectors in the dataset:\n",
    "input_shape = ...\n",
    "# Get the number of classes:\n",
    "num_classes = ...\n",
    "# Preprocess data: (implement the preprocess_data function)\n",
    "X, y = preprocess_data(X, y)"
   ]
  },
  {
   "cell_type": "markdown",
   "metadata": {},
   "source": [
    "# Train, validate and evaluate a MLP model, and plot the results:"
   ]
  },
  {
   "cell_type": "code",
   "execution_count": null,
   "metadata": {},
   "outputs": [],
   "source": [
    "# Number of epochs:\n",
    "num_epochs = 20\n",
    "# Train batch size:\n",
    "train_batch_size = 16\n",
    "# Split data into train/val/test sets:\n",
    "...\n",
    "# Load an MLP:\n",
    "model = build_MLP(input_shape, num_classes, ...)\n",
    "model.summary()\n",
    "# Train and validate MLP, store the training history in a variable:\n",
    "training_history = model.fit(...)\n",
    "# Evaluate the model:\n",
    "test_loss, test_accuracy = ...\n",
    "print(\"Test loss:\", test_loss)\n",
    "print(\"Test accuracy:\", test_accuracy)\n",
    "# Plot training history:\n",
    "print_training_history(training_history, fig_idx=1)"
   ]
  },
  {
   "cell_type": "markdown",
   "metadata": {},
   "source": [
    "# Model selection of our MLP"
   ]
  },
  {
   "cell_type": "code",
   "execution_count": null,
   "metadata": {},
   "outputs": [],
   "source": [
    "# Number of folds in KFold cross-validation:\n",
    "num_folds = 5\n",
    "# Number of epochs:\n",
    "num_epochs = 5\n",
    "# Train batch size:\n",
    "train_batch_size = 16\n",
    "# Create the list of hyper-parameters instances:\n",
    "hyper_parameters_instances = ...\n",
    "# Also store the fixed hyper-parameters:\n",
    "fixed_hyper_parameters = {\"epochs\": num_epochs, \n",
    "                          \"train batch size\": train_batch_size}\n",
    "# Select model with KFold cross-validation:\n",
    "KFold_model_selection(X, y, fixed_hyper_parameters, hyper_parameters_instances, num_folds, seed)"
   ]
  }
 ],
 "metadata": {
  "kernelspec": {
   "display_name": "Python 3",
   "language": "python",
   "name": "python3"
  },
  "language_info": {
   "codemirror_mode": {
    "name": "ipython",
    "version": 3
   },
   "file_extension": ".py",
   "mimetype": "text/x-python",
   "name": "python",
   "nbconvert_exporter": "python",
   "pygments_lexer": "ipython3",
   "version": "3.6.8"
  }
 },
 "nbformat": 4,
 "nbformat_minor": 2
}
