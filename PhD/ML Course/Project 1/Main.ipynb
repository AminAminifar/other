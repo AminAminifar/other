{
 "cells": [
  {
   "cell_type": "code",
   "execution_count": 1,
   "metadata": {},
   "outputs": [],
   "source": [
    "import numpy as np\n",
    "import pandas as pd\n",
    "from sklearn.model_selection import cross_val_score,train_test_split\n",
    "from sklearn.metrics import accuracy_score\n",
    "import matplotlib.pyplot as plt\n",
    "import timeit\n",
    "import copy\n",
    "from MyDT import *"
   ]
  },
  {
   "cell_type": "code",
   "execution_count": 37,
   "metadata": {},
   "outputs": [],
   "source": [
    "def learn(train_data, impurity_measure='entropy', prune=False, pruning_sampels_indices=[]):\n",
    "    if prune:\n",
    "        train_sampels_indices = np.delete(range(train_data.shape[0]-1),pruning_sampels_indices)\n",
    "        fulltree = grow_tree(train_data[train_sampels_indices, :], impurity_measure)\n",
    "        out_tree = copy.deepcopy(prune_tree(copy.deepcopy(fulltree), train_data[pruning_sampels_indices, :]))\n",
    "    else:\n",
    "        out_tree = grow_tree(train_data, impurity_measure)\n",
    "    return out_tree"
   ]
  },
  {
   "cell_type": "code",
   "execution_count": 5,
   "metadata": {},
   "outputs": [],
   "source": [
    "def predict(x, tree):\n",
    "    prediction = Tree_Predict(tree, x)\n",
    "    return prediction"
   ]
  },
  {
   "cell_type": "code",
   "execution_count": 103,
   "metadata": {
    "scrolled": false
   },
   "outputs": [],
   "source": [
    "# import data\n",
    "X = pd.read_csv('abalone.data',header=None)\n",
    "X = np.array(X)\n",
    "# data preprocessing (make the first attribute continious like others)\n",
    "X[:,0] = np.where(X[:,0]=='M', 0, X[:,0])\n",
    "X[:,0] = np.where(X[:,0]=='F', 1, X[:,0])\n",
    "X[:,0] = np.where(X[:,0]=='I', 2, X[:,0])\n",
    "np.random.shuffle(X)\n",
    "\n",
    "#split train and test sets\n",
    "Train_data = X[0:round(X.shape[0]*.7),:]\n",
    "Test_data = X[round(X.shape[0]*.7)-1:,:]"
   ]
  },
  {
   "cell_type": "code",
   "execution_count": 107,
   "metadata": {},
   "outputs": [
    {
     "name": "stdout",
     "output_type": "stream",
     "text": [
      "Time elapsed for learning: 5.963340000000244\n",
      "Accuracy : 0.17862838915470494\n"
     ]
    }
   ],
   "source": [
    "start = timeit.default_timer() #  record time\n",
    "# learning\n",
    "the_learnt_tree = learn(Train_data, 'entropy')\n",
    "stop = timeit.default_timer() #  record time\n",
    "print (\"Time elapsed for learning:\", stop - start)\n",
    "# checking the accuracy\n",
    "print (\"Accuracy :\",accuracy_for_a_set(the_learnt_tree, Test_data))\n",
    "# visualization\n",
    "# tree_visualization(the_learnt_tree)  #uncomment if need visualization"
   ]
  },
  {
   "cell_type": "code",
   "execution_count": 108,
   "metadata": {},
   "outputs": [
    {
     "name": "stdout",
     "output_type": "stream",
     "text": [
      "Time elapsed for learning: 4.125450800000181\n",
      "Accuracy : 0.19856459330143542\n"
     ]
    }
   ],
   "source": [
    "Pruning_sampels_indices = np.random.randint(Train_data.shape[0], size=round(Train_data.shape[0]*.4))\n",
    "\n",
    "start = timeit.default_timer() #  record time\n",
    "# learning with pruning\n",
    "the_learnt_tree_pruned = learn(Train_data, 'entropy', True, Pruning_sampels_indices)\n",
    "stop = timeit.default_timer() #  record time\n",
    "print (\"Time elapsed for learning:\", stop - start)\n",
    "# checking the accuracy\n",
    "print (\"Accuracy :\",accuracy_for_a_set(the_learnt_tree_pruned, Test_data))\n",
    "# visualization\n",
    "# tree_visualization(the_learnt_tree_pruned)  #uncomment if need visualization"
   ]
  },
  {
   "cell_type": "code",
   "execution_count": 106,
   "metadata": {},
   "outputs": [
    {
     "name": "stdout",
     "output_type": "stream",
     "text": [
      "Time elapsed for learning: 0.020507899999756773\n",
      "0.19218500797448165\n"
     ]
    }
   ],
   "source": [
    "from sklearn.tree import DecisionTreeClassifier\n",
    "from sklearn.metrics import accuracy_score\n",
    "from sklearn import tree\n",
    "from sklearn.externals.six import StringIO\n",
    "import pydotplus\n",
    "from IPython.display import Image\n",
    "from graphviz import Digraph\n",
    "\n",
    "\n",
    "iny = np.array(Train_data[:,8])\n",
    "iny = iny.astype('int')\n",
    "inX = np.array(Train_data[:,0:7])\n",
    "clf = tree.DecisionTreeClassifier(random_state=0) # optional>> , max_depth=10\n",
    "start = timeit.default_timer() #  record time\n",
    "# learning\n",
    "clf.fit(inX, iny)\n",
    "stop = timeit.default_timer() #  record time\n",
    "print (\"Time elapsed for learning:\", stop - start)\n",
    "\n",
    "predicted_y = clf.predict(Test_data[:,0:7])\n",
    "print(accuracy_score(Test_data[:,8].astype('int'),predicted_y))\n",
    "\n",
    "# visualization\n",
    "# dot_data = StringIO()\n",
    "# mytree = tree.export_graphviz(clf, out_file=dot_data)\n",
    "# graph = pydotplus.graph_from_dot_data(dot_data.getvalue())\n",
    "# Image(graph.create_png())"
   ]
  }
 ],
 "metadata": {
  "kernelspec": {
   "display_name": "Python 3",
   "language": "python",
   "name": "python3"
  },
  "language_info": {
   "codemirror_mode": {
    "name": "ipython",
    "version": 3
   },
   "file_extension": ".py",
   "mimetype": "text/x-python",
   "name": "python",
   "nbconvert_exporter": "python",
   "pygments_lexer": "ipython3",
   "version": "3.7.0"
  }
 },
 "nbformat": 4,
 "nbformat_minor": 2
}
